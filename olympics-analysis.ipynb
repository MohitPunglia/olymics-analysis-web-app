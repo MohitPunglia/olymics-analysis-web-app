# %%
import numpy as np
import pandas as pd

# %%
df=pd.read_csv('athlete_events.csv')
region_df=pd.read_csv('noc_regions.csv')

# %%
df.tail()


# %%
df.shape


# %%
df=df[df["Season"] == "Summer"]
df.shape

# %%
df.tail()

# %%
df = df.merge(region_df,on='NOC',how='left')

# %%
df.head()

# %%
df['region'].unique().shape

# %%
df.isnull().sum()

# %%
df.duplicated().sum()

# %%
df.drop_duplicates(inplace=True)

# %%
df.duplicated().sum()

# %%
df.head()

# %%
df['Medal'].value_counts()

# %%
df=pd.concat([df, pd.get_dummies(df["Medal"], dtype=int)], axis=1)

# %%
df.groupby("NOC").sum()[["Gold", "Silver", "Bronze"]].sort_values(
    "Gold", ascending=False
).reset_index()


# %%
df[(df['NOC'] == 'IND') & (df['Medal'] == 'Gold')]

# %%
medal_tally=df.drop_duplicates(subset=['Team','NOC','Games','Year','City','Sport','Event','Medal'])

# %%
medal_tally= medal_tally.groupby("region").sum()[["Gold", "Silver", "Bronze"]].sort_values(
    "Gold", ascending=False
).reset_index()

# %%
medal_tally[medal_tally["region"] == "IND"]

# %%
medal_tally

# %%
years=df['Year'].unique().tolist()

# %%
years.sort()
years.insert(0,'Overall')
years

# %%
country=np.unique(df['region'].dropna().values).tolist()
country.sort()

# %%
country.insert(0,'Overall')
country

# %%
country


# %%
medal_tally

# %%
def fetch_medal_tally(year, country):
    medal_df=df.drop_duplicates(subset=['Team','NOC','Games','Year','City','Sport','Event','Medal'])
    flag = 0
    if year == "Overall" and country == "Overall":
        temp_df = medal_df
    if year == "Overall" and country != "Overall":
        flag = 1
        temp_df = medal_df[medal_df["region"] == country]
    if year != "Overall" and country == "Overall":
        temp_df = medal_df[medal_df["Year"] == int(year)]
    if year != "Overall" and country != "Overall":
        temp_df = medal_df[
            (medal_df["Year"] == int(year)) & (medal_df["region"] == country)
        ]

    if flag == 1:
        x =temp_df.groupby("Year").sum()[["Gold", "Silver", "Bronze"]].sort_values("Year").reset_index()
    else:
        x =temp_df.groupby("region").sum()[["Gold", "Silver", "Bronze"]].sort_values("Gold", ascending=False).reset_index()

    x["total"] = x["Gold"] + x["Silver"] + x["Bronze"]

    print(x)

# %%
fetch_medal_tally(year='Overall',country='India')

# %%
medal_df=df.drop_duplicates(subset=['Team','NOC','Games','Year','City','Sport','Event','Medal'])
medal_df[(medal_df['region'] == 'India') &(medal_df['Year'] == 2016)]

# %% [markdown]
# Overall Analysis
# 

# %%
df['Year'].unique().shape

# %%
df['City'].unique()

# %%
df['Sport'].unique()


# %%
df['Event'].unique()


# %%
df.tail(20)

# %%
nations_over_time=df.drop_duplicates(['Year','region'])['Year'].value_counts().reset_index().sort_values('Year')
nations_over_time

# %%
nations_over_time.rename(columns={'Year':'Edition','count':'No of Countries'},inplace=True)
nations_over_time

# %%
import plotly.express as px

# %% [markdown]
# Participating Nations over the Years

# %%
fig=px.line(nations_over_time,x='Edition',y='No of Countries')
fig.show()

# %% [markdown]
# Number of Events over the years

# %%
events_over_time=df.drop_duplicates(['Year','Event'])['Year'].value_counts().reset_index().sort_values('Year')
events_over_time

# %%
events_over_time.rename(columns={'Year':'Edition','count':'Events'},inplace=True)
events_over_time


# %%
fig=px.line(events_over_time,x='Edition',y='Events')
fig.show()

# %% [markdown]
# Atheletes over time

# %%
athletes_over_time=df.drop_duplicates(['Year','Name'])['Year'].value_counts().reset_index().sort_values('Year')
athletes_over_time.rename(columns={'Year':'Edition','count':'Athlete'},inplace=True)
fig=px.line(athletes_over_time,x='Edition',y='Athlete')
fig.show()

# %% [markdown]
# Heat map 

# %%
x=df.drop_duplicates(['Year','Sport','Event'])
import seaborn as sns
from matplotlib import pyplot as plt
plt.figure(figsize=(20,20))
sns.heatmap(x.pivot_table(index='Sport',columns='Year',values='Event',aggfunc='count').fillna(0).astype('int'),annot=True)

