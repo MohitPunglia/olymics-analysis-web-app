# %%
import numpy as np
import pandas as pd

# %%
df=pd.read_csv('athlete_events.csv')
region_df=pd.read_csv('noc_regions.csv')

# %%
df.tail()


# %%
df.shape


# %%
df=df[df["Season"] == "Summer"]
df.shape

# %%
df.tail()

# %%
df = df.merge(region_df,on='NOC',how='left')

# %%
df.head()

# %%
df['region'].unique().shape

# %%
df.isnull().sum()

# %%
df.duplicated().sum()

# %%
df.drop_duplicates(inplace=True)

# %%
df.duplicated().sum()

# %%
df.head()

# %%
df['Medal'].value_counts()

# %%
df=pd.concat([df, pd.get_dummies(df["Medal"], dtype=int)], axis=1)

# %%
df.groupby("NOC").sum()[["Gold", "Silver", "Bronze"]].sort_values(
    "Gold", ascending=False
).reset_index()


# %%
df[(df['NOC'] == 'IND') & (df['Medal'] == 'Gold')]

# %%
medal_tally=df.drop_duplicates(subset=['Team','NOC','Games','Year','City','Sport','Event','Medal'])

# %%
medal_tally= medal_tally.groupby("region").sum()[["Gold", "Silver", "Bronze"]].sort_values(
    "Gold", ascending=False
).reset_index()

# %%
medal_tally[medal_tally["region"] == "IND"]

# %%
medal_tally

# %%
years=df['Year'].unique().tolist()

# %%
years.sort()
years.insert(0,'Overall')
years

# %%
country=np.unique(df['region'].dropna().values).tolist()
country.sort()

# %%
country.insert(0,'Overall')
country

# %%
country


# %%
medal_tally

# %%
def fetch_medal_tally(year, country):
    medal_df=df.drop_duplicates(subset=['Team','NOC','Games','Year','City','Sport','Event','Medal'])
    flag = 0
    if year == "Overall" and country == "Overall":
        temp_df = medal_df
    if year == "Overall" and country != "Overall":
        flag = 1
        temp_df = medal_df[medal_df["region"] == country]
    if year != "Overall" and country == "Overall":
        temp_df = medal_df[medal_df["Year"] == int(year)]
    if year != "Overall" and country != "Overall":
        temp_df = medal_df[
            (medal_df["Year"] == int(year)) & (medal_df["region"] == country)
        ]

    if flag == 1:
        x =temp_df.groupby("Year").sum()[["Gold", "Silver", "Bronze"]].sort_values("Year").reset_index()
    else:
        x =temp_df.groupby("region").sum()[["Gold", "Silver", "Bronze"]].sort_values("Gold", ascending=False).reset_index()

    x["total"] = x["Gold"] + x["Silver"] + x["Bronze"]

    print(x)

# %%
fetch_medal_tally(year='Overall',country='India')

# %%
medal_df=df.drop_duplicates(subset=['Team','NOC','Games','Year','City','Sport','Event','Medal'])
medal_df[(medal_df['region'] == 'India') &(medal_df['Year'] == 2016)]

# %% [markdown]
# Overall Analysis
# 

# %%
df['Year'].unique().shape

# %%
df['City'].unique()

# %%
df['Sport'].unique()


# %%
df['Event'].unique()


# %%
df.tail(20)

# %%
nations_over_time=df.drop_duplicates(['Year','region'])['Year'].value_counts().reset_index().sort_values('Year')
nations_over_time

# %%
nations_over_time.rename(columns={'Year':'Edition','count':'No of Countries'},inplace=True)
nations_over_time

# %%
import plotly.express as px

# %% [markdown]
# Participating Nations over the Years

# %%
fig=px.line(nations_over_time,x='Edition',y='No of Countries')
fig.show()

# %% [markdown]
# Number of Events over the years

# %%
events_over_time=df.drop_duplicates(['Year','Event'])['Year'].value_counts().reset_index().sort_values('Year')
events_over_time

# %%
events_over_time.rename(columns={'Year':'Edition','count':'Events'},inplace=True)
events_over_time


# %%
fig=px.line(events_over_time,x='Edition',y='Events')
fig.show()

# %% [markdown]
# Atheletes over time

# %%
athletes_over_time=df.drop_duplicates(['Year','Name'])['Year'].value_counts().reset_index().sort_values('Year')
athletes_over_time.rename(columns={'Year':'Edition','count':'Athlete'},inplace=True)
fig=px.line(athletes_over_time,x='Edition',y='Athlete')
fig.show()

# %% [markdown]
# Heat map 

# %%
x=df.drop_duplicates(['Year','Sport','Event'])
import seaborn as sns
from matplotlib import pyplot as plt
plt.figure(figsize=(20,20))
sns.heatmap(x.pivot_table(index='Sport',columns='Year',values='Event',aggfunc='count').fillna(0).astype('int'),annot=True)

# %% [markdown]
# Most Athlete won Medal

# %%
def most_successful(df, sport):
    temp_df = df.dropna(subset=["Medal"])

    if sport != "Overall":
        temp_df = temp_df[temp_df["Sport"] == sport]

    return (
        temp_df["Name"]
        .value_counts()
        .reset_index()
        .head(15)
        .merge(df, left_on="Name", right_on="Name", how="left")[
            ["Name", "count", "Sport", "region"]
        ]
        .drop_duplicates("Name")
    )

# %%
most_successful(df,'Gymnastics')

# %%

# %%
temp_df=df.dropna(subset=['Medal'])
temp_df.drop_duplicates(subset=['Team','NOC','Games','Year','City','Sport','Event','Medal'],inplace=True)


# %%
new_df=temp_df[temp_df['region']=='UK']
final_df=new_df.groupby('Year').count()['Medal'].reset_index()

# %%
fig=px.line(final_df,x='Year',y='Medal')
fig.show()

# %% [markdown]
# 2.

# %%
new_df=temp_df[temp_df['region']=='China']
plt.figure(figsize=(20,20))
sns.heatmap(new_df.pivot_table(index='Sport',columns='Year',values='Medal',aggfunc='count').fillna(0),annot=True)

# %% [markdown]
# 3.

# %%
def most_successful(df, country):
    temp_df = df.dropna(subset=["Medal"])

    temp_df = temp_df[temp_df["region"] == country]

    return (
        temp_df["Name"]
        .value_counts()
        .reset_index()
        .head(10)
        .merge(df, left_on="Name", right_on="Name", how="left")[
            ["Name", "count", "Sport"]
        ]
        .drop_duplicates("Name")
    )

# %%
most_successful(df,'USA')

# %% [markdown]
# Athlete wise Analysis

# %%
import plotly.figure_factory as ff

# %%
athlete_df=df.drop_duplicates(subset=['Name','region'])

# %%
x1=athlete_df['Age'].dropna()
x2=athlete_df[athlete_df['Medal']=='Gold']['Age'].dropna()
x3=athlete_df[athlete_df['Medal']=='Silver']['Age'].dropna()
x4=athlete_df[athlete_df['Medal']=='Bronze']['Age'].dropna()


# %%
fig=ff.create_distplot([x1,x2,x3,x4],['Overall Age Distribution','Gold Medalist','Silver Medalist','Bronze Medalist'],show_hist=False,show_rug=False)
fig.show()

# %%
famous_sports=['Basketball','Judo','Football','Tug-of-war','Athletics','Swimming','Badminton','Sailing','Gymnastics','Art Competitions','Handball','Weightlifting','Wrestling','Water Polo','Hockey','Rowing','Fencing','Shooting','Boxing','Taekwondo','Cycling','Diving','Canoeing','Tennis','Golf','Softball','Archery','Volleyball','Synchronized Swimming','Table Tennis','Baseball','Rhythmic Gymnastics','Rugby Sevens','Ice Hockey']

# %%
x = []
name = []
# for sport in famous_sports:
#     temp_df = athlete_df[athlete_df["Sport"] == sport]
#     x.append(temp_df[temp_df["Medal"] == "Gold"]["Age"].dropna())
#     name.append(sport)

for sport in famous_sports:
    mask = (athlete_df['Sport']==sport) & (athlete_df['Medal']=='Gold') & df['Age'].notna()
    temp_df = athlete_df.loc[mask, 'Age']
    if not temp_df.empty:
        x.append(temp_df)
        name.append(sport)



# %%
fig=ff.create_distplot(x,name,show_hist=False,show_rug=False)
fig.show()


# %%
athlete_df['Medal'].fillna('No Medal',inplace=True)

# %%
plt.figure(figsize=(10, 10))
temp_df = athlete_df[athlete_df["Sport"] == "Athletics"]
sns.scatterplot(x=temp_df["Weight"], y=temp_df["Height"],hue=temp_df['Medal'],style=temp_df['Sex'],s=100)



